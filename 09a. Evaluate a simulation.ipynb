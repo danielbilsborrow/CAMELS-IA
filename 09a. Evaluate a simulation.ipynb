{
 "cells": [
  {
   "cell_type": "markdown",
   "id": "2008df50",
   "metadata": {},
   "source": [
    "## Finding Ellipticities of CAMELS Galaxies and correlating Their Shape with Dark Matter Density."
   ]
  },
  {
   "cell_type": "code",
   "execution_count": 2,
   "id": "1458c779",
   "metadata": {},
   "outputs": [],
   "source": [
    "import numpy as np\n",
    "import matplotlib.pyplot as plt\n",
    "from mpl_toolkits.mplot3d import Axes3D\n",
    "from matplotlib import colors \n",
    "plt.rcParams[\"font.family\"] = \"serif\"\n",
    "plt.rcParams[\"font.serif\"] = \"Times New Roman\"\n",
    "import h5py\n",
    "import hdf5plugin\n",
    "import treecorr\n",
    "import time"
   ]
  },
  {
   "cell_type": "code",
   "execution_count": 10,
   "id": "04d6d931",
   "metadata": {},
   "outputs": [
    {
     "ename": "OSError",
     "evalue": "Unable to open file (truncated file: eof = 2752512, sblock->base_addr = 0, stored_eof = 15369164)",
     "output_type": "error",
     "traceback": [
      "\u001b[1;31m---------------------------------------------------------------------------\u001b[0m",
      "\u001b[1;31mOSError\u001b[0m                                   Traceback (most recent call last)",
      "\u001b[1;32m~\\AppData\\Local\\Temp\\ipykernel_17404\\2535147865.py\u001b[0m in \u001b[0;36m<module>\u001b[1;34m\u001b[0m\n\u001b[0;32m     13\u001b[0m \u001b[0mcatalogue\u001b[0m \u001b[1;33m=\u001b[0m \u001b[1;34mf'C:\\CAMELS DATA\\LH686_fof_subhalo_tab_033.hdf5'\u001b[0m\u001b[1;33m\u001b[0m\u001b[1;33m\u001b[0m\u001b[0m\n\u001b[0;32m     14\u001b[0m \u001b[1;31m# open the catalogue\u001b[0m\u001b[1;33m\u001b[0m\u001b[1;33m\u001b[0m\u001b[0m\n\u001b[1;32m---> 15\u001b[1;33m \u001b[0mf\u001b[0m \u001b[1;33m=\u001b[0m \u001b[0mh5py\u001b[0m\u001b[1;33m.\u001b[0m\u001b[0mFile\u001b[0m\u001b[1;33m(\u001b[0m\u001b[0mcatalogue\u001b[0m\u001b[1;33m,\u001b[0m \u001b[1;34m'r'\u001b[0m\u001b[1;33m)\u001b[0m\u001b[1;33m\u001b[0m\u001b[1;33m\u001b[0m\u001b[0m\n\u001b[0m\u001b[0;32m     16\u001b[0m \u001b[1;31m# looking to see data in cataloge\u001b[0m\u001b[1;33m\u001b[0m\u001b[1;33m\u001b[0m\u001b[0m\n\u001b[0;32m     17\u001b[0m \u001b[1;31m# def print_dataset_name(name,g):\u001b[0m\u001b[1;33m\u001b[0m\u001b[1;33m\u001b[0m\u001b[0m\n",
      "\u001b[1;32m~\\anaconda3\\lib\\site-packages\\h5py\\_hl\\files.py\u001b[0m in \u001b[0;36m__init__\u001b[1;34m(self, name, mode, driver, libver, userblock_size, swmr, rdcc_nslots, rdcc_nbytes, rdcc_w0, track_order, fs_strategy, fs_persist, fs_threshold, fs_page_size, page_buf_size, min_meta_keep, min_raw_keep, locking, alignment_threshold, alignment_interval, **kwds)\u001b[0m\n\u001b[0;32m    531\u001b[0m                                  \u001b[0mfs_persist\u001b[0m\u001b[1;33m=\u001b[0m\u001b[0mfs_persist\u001b[0m\u001b[1;33m,\u001b[0m \u001b[0mfs_threshold\u001b[0m\u001b[1;33m=\u001b[0m\u001b[0mfs_threshold\u001b[0m\u001b[1;33m,\u001b[0m\u001b[1;33m\u001b[0m\u001b[1;33m\u001b[0m\u001b[0m\n\u001b[0;32m    532\u001b[0m                                  fs_page_size=fs_page_size)\n\u001b[1;32m--> 533\u001b[1;33m                 \u001b[0mfid\u001b[0m \u001b[1;33m=\u001b[0m \u001b[0mmake_fid\u001b[0m\u001b[1;33m(\u001b[0m\u001b[0mname\u001b[0m\u001b[1;33m,\u001b[0m \u001b[0mmode\u001b[0m\u001b[1;33m,\u001b[0m \u001b[0muserblock_size\u001b[0m\u001b[1;33m,\u001b[0m \u001b[0mfapl\u001b[0m\u001b[1;33m,\u001b[0m \u001b[0mfcpl\u001b[0m\u001b[1;33m,\u001b[0m \u001b[0mswmr\u001b[0m\u001b[1;33m=\u001b[0m\u001b[0mswmr\u001b[0m\u001b[1;33m)\u001b[0m\u001b[1;33m\u001b[0m\u001b[1;33m\u001b[0m\u001b[0m\n\u001b[0m\u001b[0;32m    534\u001b[0m \u001b[1;33m\u001b[0m\u001b[0m\n\u001b[0;32m    535\u001b[0m             \u001b[1;32mif\u001b[0m \u001b[0misinstance\u001b[0m\u001b[1;33m(\u001b[0m\u001b[0mlibver\u001b[0m\u001b[1;33m,\u001b[0m \u001b[0mtuple\u001b[0m\u001b[1;33m)\u001b[0m\u001b[1;33m:\u001b[0m\u001b[1;33m\u001b[0m\u001b[1;33m\u001b[0m\u001b[0m\n",
      "\u001b[1;32m~\\anaconda3\\lib\\site-packages\\h5py\\_hl\\files.py\u001b[0m in \u001b[0;36mmake_fid\u001b[1;34m(name, mode, userblock_size, fapl, fcpl, swmr)\u001b[0m\n\u001b[0;32m    224\u001b[0m         \u001b[1;32mif\u001b[0m \u001b[0mswmr\u001b[0m \u001b[1;32mand\u001b[0m \u001b[0mswmr_support\u001b[0m\u001b[1;33m:\u001b[0m\u001b[1;33m\u001b[0m\u001b[1;33m\u001b[0m\u001b[0m\n\u001b[0;32m    225\u001b[0m             \u001b[0mflags\u001b[0m \u001b[1;33m|=\u001b[0m \u001b[0mh5f\u001b[0m\u001b[1;33m.\u001b[0m\u001b[0mACC_SWMR_READ\u001b[0m\u001b[1;33m\u001b[0m\u001b[1;33m\u001b[0m\u001b[0m\n\u001b[1;32m--> 226\u001b[1;33m         \u001b[0mfid\u001b[0m \u001b[1;33m=\u001b[0m \u001b[0mh5f\u001b[0m\u001b[1;33m.\u001b[0m\u001b[0mopen\u001b[0m\u001b[1;33m(\u001b[0m\u001b[0mname\u001b[0m\u001b[1;33m,\u001b[0m \u001b[0mflags\u001b[0m\u001b[1;33m,\u001b[0m \u001b[0mfapl\u001b[0m\u001b[1;33m=\u001b[0m\u001b[0mfapl\u001b[0m\u001b[1;33m)\u001b[0m\u001b[1;33m\u001b[0m\u001b[1;33m\u001b[0m\u001b[0m\n\u001b[0m\u001b[0;32m    227\u001b[0m     \u001b[1;32melif\u001b[0m \u001b[0mmode\u001b[0m \u001b[1;33m==\u001b[0m \u001b[1;34m'r+'\u001b[0m\u001b[1;33m:\u001b[0m\u001b[1;33m\u001b[0m\u001b[1;33m\u001b[0m\u001b[0m\n\u001b[0;32m    228\u001b[0m         \u001b[0mfid\u001b[0m \u001b[1;33m=\u001b[0m \u001b[0mh5f\u001b[0m\u001b[1;33m.\u001b[0m\u001b[0mopen\u001b[0m\u001b[1;33m(\u001b[0m\u001b[0mname\u001b[0m\u001b[1;33m,\u001b[0m \u001b[0mh5f\u001b[0m\u001b[1;33m.\u001b[0m\u001b[0mACC_RDWR\u001b[0m\u001b[1;33m,\u001b[0m \u001b[0mfapl\u001b[0m\u001b[1;33m=\u001b[0m\u001b[0mfapl\u001b[0m\u001b[1;33m)\u001b[0m\u001b[1;33m\u001b[0m\u001b[1;33m\u001b[0m\u001b[0m\n",
      "\u001b[1;32mh5py\\_objects.pyx\u001b[0m in \u001b[0;36mh5py._objects.with_phil.wrapper\u001b[1;34m()\u001b[0m\n",
      "\u001b[1;32mh5py\\_objects.pyx\u001b[0m in \u001b[0;36mh5py._objects.with_phil.wrapper\u001b[1;34m()\u001b[0m\n",
      "\u001b[1;32mh5py\\h5f.pyx\u001b[0m in \u001b[0;36mh5py.h5f.open\u001b[1;34m()\u001b[0m\n",
      "\u001b[1;31mOSError\u001b[0m: Unable to open file (truncated file: eof = 2752512, sblock->base_addr = 0, stored_eof = 15369164)"
     ]
    }
   ],
   "source": [
    "filenum = 686\n",
    "# Importing snapshot and catalogue data at redshift z=0\n",
    "snapshot = f'C:\\CAMELS DATA\\LH{filenum}_snap_033IllustrisTNG.hdf5' # snapshot name\n",
    "# open the snapshot\n",
    "f = h5py.File(snapshot, 'r')\n",
    "pos_dm = f['PartType1/Coordinates'][:]/1e3  #positions of dark matter in Mpc/h\n",
    "pos_s = f['PartType4/Coordinates'][:]/1e3  # star positions in Mpc/h\n",
    "mass_s = f['PartType4/Masses'][:]*1e10  # star masses in Mpc/h\n",
    "\n",
    "# close file\n",
    "f.close()\n",
    "# catalogue name\n",
    "catalogue = f'C:\\CAMELS DATA\\LH686_fof_subhalo_tab_033.hdf5'\n",
    "# open the catalogue\n",
    "f = h5py.File(catalogue, 'r')\n",
    "# looking to see data in cataloge\n",
    "# def print_dataset_name(name,g):\n",
    "#     print(name,'&',g)\n",
    "# f.visititems(print_dataset_name)\n",
    "pos_sh  = f['Subhalo/SubhaloPos'][:]/1e3     #positions of SUBFIND subhalos in Mpc/h\n",
    "subh_M_R_12 = f['Subhalo/SubhaloMassInRadType'][:,4]*1e10 # total stellar mass of twice the stellare alf-mass radius in Msun/h\n",
    "nstar_h = f['Group/GroupLenType'][:,4]            # total number of stars in each halo\n",
    "nstar_sh = f['Subhalo/SubhaloLenType'][:,4]            # total number of stars in each subhalo\n",
    "n_subhalos = f['Group/GroupNsubs'][:]\n",
    "# close file\n",
    "f.close()"
   ]
  },
  {
   "cell_type": "code",
   "execution_count": null,
   "id": "dc2844a7",
   "metadata": {},
   "outputs": [],
   "source": [
    "print('Total number of subhalos: ',np.sum(n_subhalos))\n",
    "print(\"Total number of halos: \", len(n_subhalos))\n",
    "print(\"Number of stars: \",len(pos_s))\n",
    "print(\"Number of stars in halos: \",np.sum(nstar_h))\n",
    "print(\"Number of stars in subhalos: \",np.sum(nstar_sh))"
   ]
  },
  {
   "cell_type": "code",
   "execution_count": null,
   "id": "a106d06b",
   "metadata": {},
   "outputs": [],
   "source": [
    "s_first_h = nstar_h[0] # number of stars in first halo\n",
    "stop = s_first_h\n",
    "s = n_subhalos[0] # number of subhalos in first halo\n",
    "start = np.sum(nstar_sh[:s])\n",
    "fig = plt.figure(figsize=(8, 6))\n",
    "ax = fig.add_subplot(1, 1, 1)\n",
    "hist = ax.hist2d(pos_s[:stop, 1], pos_s[:stop, 0], cmap='bone', norm=colors.LogNorm(), bins=500)\n",
    "sc1 = ax.scatter(pos_s[start:stop, 1], pos_s[start:stop, 0], marker='o', s=5, alpha=1.0, c='gold', label='Stars with no galaxy')\n",
    "sc2 = ax.scatter(pos_sh[:s, 1], pos_sh[:s, 0], marker='x', s=30, alpha=1, c='r', label='SUBFIND subhalos')\n",
    "ax.set_xlabel('x /Mpc')\n",
    "ax.set_ylabel('y /Mpc')\n",
    "ax.set_title('Largest Galactic Halo')\n",
    "ax.set_box_aspect(1)\n",
    "\n",
    "# Create a dummy artist for the hist2d plot to add it to the legend\n",
    "dummy_artist = plt.Line2D([], [], linestyle='-', linewidth=1, color='white', label='Stellar density')\n",
    "# Combine scatter plots and the dummy artist in the legend\n",
    "handles = [dummy_artist, sc2, sc1]\n",
    "labels = [handle.get_label() for handle in handles]\n",
    "ax.legend(handles=handles, labels=labels)\n",
    "\n",
    "plt.show()"
   ]
  },
  {
   "cell_type": "markdown",
   "id": "0c2c0fd2",
   "metadata": {},
   "source": [
    "#### Assigning every star to a subhalo according to SUBFIND algorithm\n",
    "If a star does not belong to a subhalo but belongs to a halo, it does not get assigned an index. Stars which do not belong to any halo are at the end of the arrays thus do not get counted."
   ]
  },
  {
   "cell_type": "code",
   "execution_count": 5,
   "id": "adfdc3f7",
   "metadata": {},
   "outputs": [
    {
     "ename": "NameError",
     "evalue": "name 'nstar_sh' is not defined",
     "output_type": "error",
     "traceback": [
      "\u001b[1;31m---------------------------------------------------------------------------\u001b[0m",
      "\u001b[1;31mNameError\u001b[0m                                 Traceback (most recent call last)",
      "\u001b[1;32m~\\AppData\\Local\\Temp\\ipykernel_17404\\2583848416.py\u001b[0m in \u001b[0;36m<module>\u001b[1;34m\u001b[0m\n\u001b[0;32m      4\u001b[0m \u001b[1;33m\u001b[0m\u001b[0m\n\u001b[0;32m      5\u001b[0m \u001b[0mbegin_slice\u001b[0m \u001b[1;33m=\u001b[0m \u001b[1;36m0\u001b[0m\u001b[1;33m\u001b[0m\u001b[1;33m\u001b[0m\u001b[0m\n\u001b[1;32m----> 6\u001b[1;33m \u001b[0mend_slice\u001b[0m \u001b[1;33m=\u001b[0m \u001b[0mnstar_sh\u001b[0m\u001b[1;33m[\u001b[0m\u001b[1;36m0\u001b[0m\u001b[1;33m]\u001b[0m \u001b[1;31m# end_slice - begin_silice = number of stars assigned to this subhalo w index subhalo_index\u001b[0m\u001b[1;33m\u001b[0m\u001b[1;33m\u001b[0m\u001b[0m\n\u001b[0m\u001b[0;32m      7\u001b[0m \u001b[0mstar_count\u001b[0m \u001b[1;33m=\u001b[0m \u001b[1;36m0\u001b[0m \u001b[1;31m# star index we are at\u001b[0m\u001b[1;33m\u001b[0m\u001b[1;33m\u001b[0m\u001b[0m\n\u001b[0;32m      8\u001b[0m \u001b[0msubhalo_index\u001b[0m \u001b[1;33m=\u001b[0m \u001b[1;36m0\u001b[0m   \u001b[1;31m# subhalo index we are at\u001b[0m\u001b[1;33m\u001b[0m\u001b[1;33m\u001b[0m\u001b[0m\n",
      "\u001b[1;31mNameError\u001b[0m: name 'nstar_sh' is not defined"
     ]
    }
   ],
   "source": [
    "assigned = np.zeros(len(pos_s), dtype=bool) # Initialize an array to keep track of assigned star particles\n",
    "# store the assignment of each star particle to a galaxy particle\n",
    "assignment = -np.ones(len(pos_s), dtype=int)  # The index of the galaxy particle, for unassigned stars assignment =-1\n",
    "\n",
    "begin_slice = 0\n",
    "end_slice = nstar_sh[0] # end_slice - begin_silice = number of stars assigned to this subhalo w index subhalo_index\n",
    "star_count = 0 # star index we are at\n",
    "subhalo_index = 0   # subhalo index we are at\n",
    "\n",
    "for i, number_sh in enumerate(n_subhalos): \n",
    "    if number_sh!=0: \n",
    "        for j in range(number_sh):          # looping through every subhalo in a halo\n",
    "            \n",
    "            assigned[begin_slice:end_slice] = True\n",
    "            assignment[begin_slice:end_slice] = subhalo_index\n",
    "            \n",
    "            if nstar_sh[subhalo_index]!=0:\n",
    "                begin_slice=end_slice\n",
    "                end_slice = begin_slice + nstar_sh[subhalo_index+1]\n",
    "\n",
    "            star_count += nstar_sh[subhalo_index]\n",
    "            \n",
    "            subhalo_index +=1\n",
    "\n",
    "                \n",
    "\n",
    "        old_star_count = star_count\n",
    "        star_count = np.sum(nstar_h[:i+1])\n",
    "        #print(\"unasigned stars: \", star_count - old_star_count)\n",
    "        begin_slice = star_count   # skipping the stars with no subhalo\n",
    "        if subhalo_index!=len(nstar_sh):\n",
    "            end_slice = star_count+nstar_sh[subhalo_index]\n",
    "    else:\n",
    "        continue\n",
    "print(\"It is\",np.sum(n_subhalos)==subhalo_index, \"we have counted all subhalos.\")"
   ]
  },
  {
   "cell_type": "code",
   "execution_count": 7,
   "id": "c61e0705",
   "metadata": {},
   "outputs": [
    {
     "data": {
      "text/plain": [
       "Text(0, 0.5, 'subhalo index')"
      ]
     },
     "execution_count": 7,
     "metadata": {},
     "output_type": "execute_result"
    },
    {
     "data": {
      "image/png": "[encoded data removed]",
      "text/plain": [
       "<Figure size 640x480 with 1 Axes>"
      ]
     },
     "metadata": {},
     "output_type": "display_data"
    }
   ],
   "source": [
    "for __ in range(len(n_subhalos)):\n",
    "    plt.axhline(np.sum(n_subhalos[:__]),c='0.5',linewidth=0.1)\n",
    "plt.plot(assignment[:])\n",
    "plt.xlim([0,1.1e6])\n",
    "plt.ylim([0,3000])\n",
    "plt.xlabel('star index')\n",
    "plt.ylabel('subhalo index')"
   ]
  },
  {
   "cell_type": "markdown",
   "id": "8a96adb5",
   "metadata": {},
   "source": [
    "#### Galaxies are subhalos with Mstar > 1e8 Msun"
   ]
  },
  {
   "cell_type": "code",
   "execution_count": 4,
   "id": "48f49b73",
   "metadata": {},
   "outputs": [
    {
     "ename": "NameError",
     "evalue": "name 'assigned' is not defined",
     "output_type": "error",
     "traceback": [
      "\u001b[1;31m---------------------------------------------------------------------------\u001b[0m",
      "\u001b[1;31mNameError\u001b[0m                                 Traceback (most recent call last)",
      "\u001b[1;32m~\\AppData\\Local\\Temp\\ipykernel_17404\\1042617632.py\u001b[0m in \u001b[0;36m<module>\u001b[1;34m\u001b[0m\n\u001b[0;32m      1\u001b[0m \u001b[1;31m# removing unasigned stars from star index\u001b[0m\u001b[1;33m\u001b[0m\u001b[1;33m\u001b[0m\u001b[0m\n\u001b[1;32m----> 2\u001b[1;33m \u001b[0mpos_s1\u001b[0m \u001b[1;33m=\u001b[0m \u001b[0mpos_s\u001b[0m\u001b[1;33m[\u001b[0m\u001b[0massigned\u001b[0m\u001b[1;33m]\u001b[0m\u001b[1;33m\u001b[0m\u001b[1;33m\u001b[0m\u001b[0m\n\u001b[0m\u001b[0;32m      3\u001b[0m \u001b[0mmass_s1\u001b[0m \u001b[1;33m=\u001b[0m \u001b[0mmass_s\u001b[0m\u001b[1;33m[\u001b[0m\u001b[0massigned\u001b[0m\u001b[1;33m]\u001b[0m\u001b[1;33m\u001b[0m\u001b[1;33m\u001b[0m\u001b[0m\n\u001b[0;32m      4\u001b[0m \u001b[0massignment1\u001b[0m \u001b[1;33m=\u001b[0m \u001b[0massignment\u001b[0m\u001b[1;33m[\u001b[0m\u001b[0massigned\u001b[0m\u001b[1;33m]\u001b[0m\u001b[1;33m\u001b[0m\u001b[1;33m\u001b[0m\u001b[0m\n\u001b[0;32m      5\u001b[0m \u001b[1;31m# replacing subhalos with low stellar mass with np.nan\u001b[0m\u001b[1;33m\u001b[0m\u001b[1;33m\u001b[0m\u001b[0m\n",
      "\u001b[1;31mNameError\u001b[0m: name 'assigned' is not defined"
     ]
    }
   ],
   "source": [
    "# removing unasigned stars from star index\n",
    "pos_s1 = pos_s[assigned]\n",
    "mass_s1 = mass_s[assigned]\n",
    "assignment1 = assignment[assigned]\n",
    "# replacing subhalos with low stellar mass with np.nan\n",
    "pos_g = pos_sh\n",
    "pos_g[subh_M_R_12<1e8] = np.nan\n",
    "nstar_g = nstar_sh.astype(float)\n",
    "nstar_g[subh_M_R_12<1e8] = np.nan\n",
    "print('Galaxy positions shape: ', pos_g.shape)\n",
    "\n",
    "high_mass = np.where(subh_M_R_12>1e8)[0]\n",
    "print(high_mass.shape, \"galaxies\")\n",
    "\n",
    "# Create a boolean mask for the stars above the threshold mass\n",
    "mask = np.isin(assignment1, high_mass)\n",
    "\n",
    "# Filter out stars in subhalos below the threshold mass\n",
    "pos_s2 = pos_s1[mask]\n",
    "mass_s2 = mass_s1[mask]\n",
    "filtered_assignment1 = assignment1[mask]\n",
    "print(\"number of stars remaining:\",filtered_assignment1.shape)"
   ]
  },
  {
   "cell_type": "code",
   "execution_count": null,
   "id": "f95a71e4",
   "metadata": {},
   "outputs": [],
   "source": []
  },
  {
   "cell_type": "code",
   "execution_count": null,
   "id": "ad108243",
   "metadata": {},
   "outputs": [],
   "source": []
  }
 ],
 "metadata": {
  "kernelspec": {
   "display_name": "Python 3 (ipykernel)",
   "language": "python",
   "name": "python3"
  },
  "language_info": {
   "codemirror_mode": {
    "name": "ipython",
    "version": 3
   },
   "file_extension": ".py",
   "mimetype": "text/x-python",
   "name": "python",
   "nbconvert_exporter": "python",
   "pygments_lexer": "ipython3",
   "version": "3.9.13"
  }
 },
 "nbformat": 4,
 "nbformat_minor": 5
}
